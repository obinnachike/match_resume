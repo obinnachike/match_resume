{
 "cells": [
  {
   "cell_type": "code",
   "execution_count": 2,
   "id": "aa04b8e2",
   "metadata": {},
   "outputs": [],
   "source": [
    "import os\n",
    "from dotenv import load_dotenv"
   ]
  },
  {
   "cell_type": "code",
   "execution_count": 3,
   "id": "e252e436",
   "metadata": {},
   "outputs": [],
   "source": [
    "load_dotenv()\n",
    "OPENAI_API_KEY= os.getenv(\"OPENAI_API_KEY\")"
   ]
  },
  {
   "cell_type": "code",
   "execution_count": 4,
   "id": "3df09bb3",
   "metadata": {},
   "outputs": [],
   "source": [
    "os.environ[\"OPENAI_API_KEY\"] = OPENAI_API_KEY"
   ]
  },
  {
   "cell_type": "code",
   "execution_count": 5,
   "id": "6b2bc515",
   "metadata": {},
   "outputs": [
    {
     "data": {
      "text/plain": [
       "'/Users/mac/Desktop/AI_AGENTS/match_resume/research'"
      ]
     },
     "execution_count": 5,
     "metadata": {},
     "output_type": "execute_result"
    }
   ],
   "source": [
    "pwd"
   ]
  },
  {
   "cell_type": "code",
   "execution_count": 6,
   "id": "daea5fe2",
   "metadata": {},
   "outputs": [
    {
     "name": "stdout",
     "output_type": "stream",
     "text": [
      "/Users/mac/Desktop/AI_AGENTS/match_resume\n"
     ]
    }
   ],
   "source": [
    "cd ..\n"
   ]
  },
  {
   "cell_type": "code",
   "execution_count": 7,
   "id": "a3cd5bc8",
   "metadata": {},
   "outputs": [
    {
     "data": {
      "text/plain": [
       "'/Users/mac/Desktop/AI_AGENTS/match_resume'"
      ]
     },
     "execution_count": 7,
     "metadata": {},
     "output_type": "execute_result"
    }
   ],
   "source": [
    "pwd"
   ]
  },
  {
   "cell_type": "code",
   "execution_count": 8,
   "id": "fd254259",
   "metadata": {},
   "outputs": [],
   "source": [
    "from langchain.document_loaders import PyPDFLoader"
   ]
  },
  {
   "cell_type": "code",
   "execution_count": 9,
   "id": "bf7893af",
   "metadata": {},
   "outputs": [],
   "source": [
    "file_path = \"/Users/mac/Desktop/AI_AGENTS/match_resume/Data/Chike's CV.pdf\"\n",
    "loader = PyPDFLoader(file_path)\n",
    "data = loader.load()"
   ]
  },
  {
   "cell_type": "code",
   "execution_count": 10,
   "id": "41e94f3c",
   "metadata": {},
   "outputs": [
    {
     "data": {
      "text/plain": [
       "[Document(metadata={'producer': 'Skia/PDF m124 Google Docs Renderer', 'creator': 'PyPDF', 'creationdate': '', 'title': 'new cv', 'source': \"/Users/mac/Desktop/AI_AGENTS/match_resume/Data/Chike's CV.pdf\", 'total_pages': 4, 'page': 0, 'page_label': '1'}, page_content='CHIEJINACHIKEPlot373,39Rd,3rdAvenue,Gwarinpa,Abuja,Nigeria,900108+2347031689715chiejinachike@gmail.com\\nCareerObjectives:\\nI ama highlyskilledandresults-drivenDataAnalystwithover5yearsofexperienceinanalyzinglargedatasetstouncover insightsanddrivebusinessdecisions.Proficientindatamanipulation,statisticalanalysis,andvisualizationtechniques. I have professional experience in crafting chatbots that seamlessly integrate with existing systems,enhancing user engagement and optimizingoperational efficiency. Witha keenunderstandingof user experienceprinciples, I strive to create conversational interfaces that not onlymeet technical specifications but alsoexceedend-userexpectations.Mycareer visionis tocontinue pushingthe boundaries of Dataanalytics.Iamcommittedtodrivinginnovationindata management, making data reportingmore efficient, versatile, andadaptable tovarious industries. I aspire tolead projects that contribute to business development andgrowththroughdata insights, witha focus onbigdatamanagementandanalytics.\\nCoreSkills:\\nData Warehousing, SQL, Python, Transformer Models, Machine LearningFrameworks, suchas TensorFlowandPyTorch, Natural Language Processing (NLP), Machine Learning Integration, Text Preprocessing, ResearchandDevelopment.\\nCERTIFICATIONS\\n● CertificateofAchievementinOracleDatabaseAdministration● CertificateinIBMSPSSStatistics● CertificateofAchievementinBusinessInformationTechnology● CertificateofAchievementinProjectManagement● CertificateofAchievementinStatisticsandDataScienceforBeginners● CertificateofAchievementinITFundamentalsforBusinessManagement● CertificateofAchievementinFundamentalsofDataEngineering● CertificateofAchievementinChatbotEngineering● CertificateofAchievementinPowerBIforDataAnalytics\\nWORKEXPERIENCE\\nDataAnalystatPage36,June2022–PresentTexas,UnitedStatesJobroles\\n● Usedautomatedtools,suchasPowerBItoextractdatafromprimaryandsecondarysources'),\n",
       " Document(metadata={'producer': 'Skia/PDF m124 Google Docs Renderer', 'creator': 'PyPDF', 'creationdate': '', 'title': 'new cv', 'source': \"/Users/mac/Desktop/AI_AGENTS/match_resume/Data/Chike's CV.pdf\", 'total_pages': 4, 'page': 1, 'page_label': '2'}, page_content='● Developedandmaintaineddatabases,anddatasystems–reorganizingdatainareadableformat● PerformedanalysisusingRandPythontoassessthequalityandmeaningofdata● FilteredDatabyreviewingreportsandperformanceindicatorstoidentifyandcorrectcodeproblems● Usedstatisticaltoolstoidentify,analyze,andinterpretpatternsandtrendsincomplexdatasets● AssignednumericalvaluetoessentialbusinessfunctionssothatPage36businessperformancecanbeassessedandcomparedoverperiodsoftime.● Analyzedlocal,national,andglobaltrendsthatimpactboththeorganizationandtheindustry● Preparedreportsforthemanagementstatingtrends,patterns,andpredictionsusingrelevantdata● Workedwithmanagementheadstoidentifyprocessimprovementopportunities,proposesystemmodifications,accordingtodatagovernancestrategies.● Preparedfinalanalysisreportsforthestakeholderstounderstandthedata-analysissteps,enablingthemtotakeimportantdecisionsbasedonvariousfactsandtrends\\nAssistantLectureratUniversityofNigeria,February2018–May2022Enugu,Nigeria\\nJobroles● Conductedresearchandpublishedinhighimpact-factorjournals.● Assistedandcollaboratedwithotherresearcherswheredatareportingwasneeded.● Assistedseniorfacultymembersinconductinglectures,seminarsandtutorials.● Facilitatedstudentlearningthroughthedeliveryofengagingandinteractivelessons.● Providedguidanceandsupporttostudents,addressingtheirquestionsandconcerns.● Assistedinthepreparationofcoursematerials,includingsyllabi,lessonplansandteachingaids.● Evaluatedandgradedstudentassignments,examsandprojectsinatimelymanner.● Arrangedofficehourstoprovideone-on-oneassistancetostudentsanddiscusstheiracademicprogress.● Assistedinresearchprojects,datacollectionandanalysis.● Collaboratedwithcolleaguesoncurriculumdevelopmentandimprovementinitiatives.● Participatedindepartmentalmeetingsandworkshopstostayupdatedonbestteachingpractices.\\nAssistantTechnicalOfficer-MERandDataAnalyst atFHI(360),August2016–December2017.Anambra,Nigeria.\\nJobroles\\n● Assistedinprovidingsupportonprogram/projectmonitoringandevaluationactivities.● Worked with Executive level Technical Officers to support the correct implementation and use ofmonitoringandevaluationtoolsandadherencetocomplete,correctandtimelyreporting.● AssistedwithdataentryandupdatingofDHISandLAMIS.● Assistedinconductingroutine monitoringvisits toproject sites, includingquarterlyDQAs andassistedinthepreparationofmonthlyreports.'),\n",
       " Document(metadata={'producer': 'Skia/PDF m124 Google Docs Renderer', 'creator': 'PyPDF', 'creationdate': '', 'title': 'new cv', 'source': \"/Users/mac/Desktop/AI_AGENTS/match_resume/Data/Chike's CV.pdf\", 'total_pages': 4, 'page': 2, 'page_label': '3'}, page_content='● Provided direct technical assistance and capacity building in the design and implementation of theprogram/project monitoring and enhanced evaluation components of the activities in the communitiesserved.● Coordinateddataanalysis,designandinformationflow.● ProducedmonthlyreportsusingadvancedExcelspreadsheetfunctions.● Researchedandresolvedissuesregardingintegrityofdataflowintodatabases.● Developedtables,viewsandmaterializedviewsusingSQL.● Transformedprojectdatarequirementsintoprojectdatamodels.● Compiled,evaluatedandreviewedengineereddataforinternalsystems.\\nProjectManageratUche-ShittuSolutions,June2015–May2016.PortHarcourt,Nigeria\\nJobroles● Identifiedplansandresourcesrequiredtomeetprojectgoalsandobjectives.● Managedprojectsfromprocurementtocommission.● Developedandinitiatedprojects,managedcostsandmonitoredperformance.● Orchestratedprojects withinstrict time frames andbudgetconstraintsbysolvingcomplexproblemsandworkingcloselywithseniorleaders.● Identified,reviewedandappliedpoliciesandprocedures.● Updatedoperational methods, oversawaccountingprocedures,trackedinformationandcompileddatatoimproveefficiency.● Obtainedneededresourcesbystrategicallynegotiatingwithstakeholdersandoutsidesuppliers.\\nDigitalMarketingAssociateatJUMIA,July2014–May2015.PortHarcourt,Nigeria\\nJobroles● Utilizedeffectivedigitalmarketingmethodstoincreasesalesby76%.● Boostedbrandawarenessbyestablishingstrongwebandsocialmediapresence.● Created and deployed social media content, engaged with target audiences and boosted reach withstrategicadplacements.● OptimizedsocialmediachannelsandwebpagestoimproveSEO.● Trackedandreportedonmarketingcampaignperformancemonthlyto helpwithoptimizingcurrentandfutureplans.● Conductedcontinuousevaluationsofmarkettrendstostaycurrentonconsumerandcompetitorchanges.● Improvedclick-throughrates,conversionandotherimportantKPIswithastrategicapproach.● Developedbackend-trackingURLstomeasurecampaignresultsanddetermineROI.\\nEducation\\nUniversityofNigeria, MastersDegree'),\n",
       " Document(metadata={'producer': 'Skia/PDF m124 Google Docs Renderer', 'creator': 'PyPDF', 'creationdate': '', 'title': 'new cv', 'source': \"/Users/mac/Desktop/AI_AGENTS/match_resume/Data/Chike's CV.pdf\", 'total_pages': 4, 'page': 3, 'page_label': '4'}, page_content=\"UniversityofBenin, Bachelor'sDegree.August2013\\nResearchandPublicationsChiejian, C. O., Ikeh, M. I., Enebe, F. A., Aguzie, I. O., Ajima, M. N. O., Ali, D., Kumar, G. andNwani, C. D.(2023). ‘Effects of haloperidol on peripheral erythrocytes and brain neurotransmitter levels of juvenile AfricanSharptoothCatfish,clariasgariepinus’,JournalofAquaticAnimalHealth,00,1-1.\\nAnih, L. N., Atama, C. I., Chiejina, C. O., Ezeani, S. I., Ezinwa, H. C., Chuka, M. N. andNwani, C. D.(2023).‘Long Long termintegratedbiomarker responses infreshwater AfricanCatfish(clarias gariepinus) exposedtoanew brand of Herbicide, fluazifop-p-butyl’, Drug and Chemical Toxicology,DOI:10.1080/01480545.2023.2174987.\\nChiejian, C. O., Anih, L. N., Okoye, C. O., Aguzie, I. A., Ali, D., Kumar, G. and Nwani, C. D. (2022).‘Haloperidol altersthebehavioral,hematologicalandbiochemicalparametersoffreshwaterAfricancatfish,clariasgariepinus (Burchell 1822)’, Comparative Biochemistry and Physiology Part C: Toxicology and Pharmacology,254,109292.\\nOkoye, C. O., Okeke, E. S., Ezeorba, T. P. C., Chukwudozie, K. I., Chiejina, C. O., Fomena Temgoua, N. S.(2022). ‘Microbial andBio-basedPreservatives:RecentAdvancesinAntimicrobialCompounds’In:Nadda,A.K.,Goel, G. (eds) Microbes for Natural Food Additives. Microorganisms for Sustainability, 38. Springer,Singapore.http://doi.org/10.1007/978-981-19-5711-6_4\\nOkoye, C. O., Echude, D., Chiejina, C. O., Okoye, K. C., Chigozie, D. and Ezeonyejiaku, C. D.(2021).‘Macroinvertebrates as Bioindicators of Water QualityAssessment inaTropicalStream’,InternationalJournalofAquaticScience,12(2):3552-3561.\\nOkoye, C. O., Chiejina, C. O., Ezeorah, C. C., Okeke, J. J., Ezeonyejiaku, C. D. and Okonkwo, C. J. (2019).‘DiversityofEarthworminNnamdiAzikiweUniversity’,AnalsofScienceandTechnology4(2):39-4.\")]"
      ]
     },
     "execution_count": 10,
     "metadata": {},
     "output_type": "execute_result"
    }
   ],
   "source": [
    "data"
   ]
  },
  {
   "cell_type": "code",
   "execution_count": 12,
   "id": "caf6127f",
   "metadata": {},
   "outputs": [
    {
     "data": {
      "text/plain": [
       "4"
      ]
     },
     "execution_count": 12,
     "metadata": {},
     "output_type": "execute_result"
    }
   ],
   "source": [
    "len(data)"
   ]
  },
  {
   "cell_type": "code",
   "execution_count": 13,
   "id": "4c8d0d21",
   "metadata": {},
   "outputs": [],
   "source": [
    "curriculum_vitae = \"\"\n",
    "for page in data:\n",
    "    curriculum_vitae += page.page_content"
   ]
  },
  {
   "cell_type": "code",
   "execution_count": 14,
   "id": "b7455e30",
   "metadata": {},
   "outputs": [
    {
     "data": {
      "text/plain": [
       "\"CHIEJINACHIKEPlot373,39Rd,3rdAvenue,Gwarinpa,Abuja,Nigeria,900108+2347031689715chiejinachike@gmail.com\\nCareerObjectives:\\nI ama highlyskilledandresults-drivenDataAnalystwithover5yearsofexperienceinanalyzinglargedatasetstouncover insightsanddrivebusinessdecisions.Proficientindatamanipulation,statisticalanalysis,andvisualizationtechniques. I have professional experience in crafting chatbots that seamlessly integrate with existing systems,enhancing user engagement and optimizingoperational efficiency. Witha keenunderstandingof user experienceprinciples, I strive to create conversational interfaces that not onlymeet technical specifications but alsoexceedend-userexpectations.Mycareer visionis tocontinue pushingthe boundaries of Dataanalytics.Iamcommittedtodrivinginnovationindata management, making data reportingmore efficient, versatile, andadaptable tovarious industries. I aspire tolead projects that contribute to business development andgrowththroughdata insights, witha focus onbigdatamanagementandanalytics.\\nCoreSkills:\\nData Warehousing, SQL, Python, Transformer Models, Machine LearningFrameworks, suchas TensorFlowandPyTorch, Natural Language Processing (NLP), Machine Learning Integration, Text Preprocessing, ResearchandDevelopment.\\nCERTIFICATIONS\\n● CertificateofAchievementinOracleDatabaseAdministration● CertificateinIBMSPSSStatistics● CertificateofAchievementinBusinessInformationTechnology● CertificateofAchievementinProjectManagement● CertificateofAchievementinStatisticsandDataScienceforBeginners● CertificateofAchievementinITFundamentalsforBusinessManagement● CertificateofAchievementinFundamentalsofDataEngineering● CertificateofAchievementinChatbotEngineering● CertificateofAchievementinPowerBIforDataAnalytics\\nWORKEXPERIENCE\\nDataAnalystatPage36,June2022–PresentTexas,UnitedStatesJobroles\\n● Usedautomatedtools,suchasPowerBItoextractdatafromprimaryandsecondarysources● Developedandmaintaineddatabases,anddatasystems–reorganizingdatainareadableformat● PerformedanalysisusingRandPythontoassessthequalityandmeaningofdata● FilteredDatabyreviewingreportsandperformanceindicatorstoidentifyandcorrectcodeproblems● Usedstatisticaltoolstoidentify,analyze,andinterpretpatternsandtrendsincomplexdatasets● AssignednumericalvaluetoessentialbusinessfunctionssothatPage36businessperformancecanbeassessedandcomparedoverperiodsoftime.● Analyzedlocal,national,andglobaltrendsthatimpactboththeorganizationandtheindustry● Preparedreportsforthemanagementstatingtrends,patterns,andpredictionsusingrelevantdata● Workedwithmanagementheadstoidentifyprocessimprovementopportunities,proposesystemmodifications,accordingtodatagovernancestrategies.● Preparedfinalanalysisreportsforthestakeholderstounderstandthedata-analysissteps,enablingthemtotakeimportantdecisionsbasedonvariousfactsandtrends\\nAssistantLectureratUniversityofNigeria,February2018–May2022Enugu,Nigeria\\nJobroles● Conductedresearchandpublishedinhighimpact-factorjournals.● Assistedandcollaboratedwithotherresearcherswheredatareportingwasneeded.● Assistedseniorfacultymembersinconductinglectures,seminarsandtutorials.● Facilitatedstudentlearningthroughthedeliveryofengagingandinteractivelessons.● Providedguidanceandsupporttostudents,addressingtheirquestionsandconcerns.● Assistedinthepreparationofcoursematerials,includingsyllabi,lessonplansandteachingaids.● Evaluatedandgradedstudentassignments,examsandprojectsinatimelymanner.● Arrangedofficehourstoprovideone-on-oneassistancetostudentsanddiscusstheiracademicprogress.● Assistedinresearchprojects,datacollectionandanalysis.● Collaboratedwithcolleaguesoncurriculumdevelopmentandimprovementinitiatives.● Participatedindepartmentalmeetingsandworkshopstostayupdatedonbestteachingpractices.\\nAssistantTechnicalOfficer-MERandDataAnalyst atFHI(360),August2016–December2017.Anambra,Nigeria.\\nJobroles\\n● Assistedinprovidingsupportonprogram/projectmonitoringandevaluationactivities.● Worked with Executive level Technical Officers to support the correct implementation and use ofmonitoringandevaluationtoolsandadherencetocomplete,correctandtimelyreporting.● AssistedwithdataentryandupdatingofDHISandLAMIS.● Assistedinconductingroutine monitoringvisits toproject sites, includingquarterlyDQAs andassistedinthepreparationofmonthlyreports.● Provided direct technical assistance and capacity building in the design and implementation of theprogram/project monitoring and enhanced evaluation components of the activities in the communitiesserved.● Coordinateddataanalysis,designandinformationflow.● ProducedmonthlyreportsusingadvancedExcelspreadsheetfunctions.● Researchedandresolvedissuesregardingintegrityofdataflowintodatabases.● Developedtables,viewsandmaterializedviewsusingSQL.● Transformedprojectdatarequirementsintoprojectdatamodels.● Compiled,evaluatedandreviewedengineereddataforinternalsystems.\\nProjectManageratUche-ShittuSolutions,June2015–May2016.PortHarcourt,Nigeria\\nJobroles● Identifiedplansandresourcesrequiredtomeetprojectgoalsandobjectives.● Managedprojectsfromprocurementtocommission.● Developedandinitiatedprojects,managedcostsandmonitoredperformance.● Orchestratedprojects withinstrict time frames andbudgetconstraintsbysolvingcomplexproblemsandworkingcloselywithseniorleaders.● Identified,reviewedandappliedpoliciesandprocedures.● Updatedoperational methods, oversawaccountingprocedures,trackedinformationandcompileddatatoimproveefficiency.● Obtainedneededresourcesbystrategicallynegotiatingwithstakeholdersandoutsidesuppliers.\\nDigitalMarketingAssociateatJUMIA,July2014–May2015.PortHarcourt,Nigeria\\nJobroles● Utilizedeffectivedigitalmarketingmethodstoincreasesalesby76%.● Boostedbrandawarenessbyestablishingstrongwebandsocialmediapresence.● Created and deployed social media content, engaged with target audiences and boosted reach withstrategicadplacements.● OptimizedsocialmediachannelsandwebpagestoimproveSEO.● Trackedandreportedonmarketingcampaignperformancemonthlyto helpwithoptimizingcurrentandfutureplans.● Conductedcontinuousevaluationsofmarkettrendstostaycurrentonconsumerandcompetitorchanges.● Improvedclick-throughrates,conversionandotherimportantKPIswithastrategicapproach.● Developedbackend-trackingURLstomeasurecampaignresultsanddetermineROI.\\nEducation\\nUniversityofNigeria, MastersDegreeUniversityofBenin, Bachelor'sDegree.August2013\\nResearchandPublicationsChiejian, C. O., Ikeh, M. I., Enebe, F. A., Aguzie, I. O., Ajima, M. N. O., Ali, D., Kumar, G. andNwani, C. D.(2023). ‘Effects of haloperidol on peripheral erythrocytes and brain neurotransmitter levels of juvenile AfricanSharptoothCatfish,clariasgariepinus’,JournalofAquaticAnimalHealth,00,1-1.\\nAnih, L. N., Atama, C. I., Chiejina, C. O., Ezeani, S. I., Ezinwa, H. C., Chuka, M. N. andNwani, C. D.(2023).‘Long Long termintegratedbiomarker responses infreshwater AfricanCatfish(clarias gariepinus) exposedtoanew brand of Herbicide, fluazifop-p-butyl’, Drug and Chemical Toxicology,DOI:10.1080/01480545.2023.2174987.\\nChiejian, C. O., Anih, L. N., Okoye, C. O., Aguzie, I. A., Ali, D., Kumar, G. and Nwani, C. D. (2022).‘Haloperidol altersthebehavioral,hematologicalandbiochemicalparametersoffreshwaterAfricancatfish,clariasgariepinus (Burchell 1822)’, Comparative Biochemistry and Physiology Part C: Toxicology and Pharmacology,254,109292.\\nOkoye, C. O., Okeke, E. S., Ezeorba, T. P. C., Chukwudozie, K. I., Chiejina, C. O., Fomena Temgoua, N. S.(2022). ‘Microbial andBio-basedPreservatives:RecentAdvancesinAntimicrobialCompounds’In:Nadda,A.K.,Goel, G. (eds) Microbes for Natural Food Additives. Microorganisms for Sustainability, 38. Springer,Singapore.http://doi.org/10.1007/978-981-19-5711-6_4\\nOkoye, C. O., Echude, D., Chiejina, C. O., Okoye, K. C., Chigozie, D. and Ezeonyejiaku, C. D.(2021).‘Macroinvertebrates as Bioindicators of Water QualityAssessment inaTropicalStream’,InternationalJournalofAquaticScience,12(2):3552-3561.\\nOkoye, C. O., Chiejina, C. O., Ezeorah, C. C., Okeke, J. J., Ezeonyejiaku, C. D. and Okonkwo, C. J. (2019).‘DiversityofEarthworminNnamdiAzikiweUniversity’,AnalsofScienceandTechnology4(2):39-4.\""
      ]
     },
     "execution_count": 14,
     "metadata": {},
     "output_type": "execute_result"
    }
   ],
   "source": [
    "curriculum_vitae"
   ]
  },
  {
   "cell_type": "code",
   "execution_count": 15,
   "id": "ce0892b8",
   "metadata": {},
   "outputs": [],
   "source": [
    "from langchain.text_splitter import TokenTextSplitter"
   ]
  },
  {
   "cell_type": "code",
   "execution_count": 17,
   "id": "9225d987",
   "metadata": {},
   "outputs": [],
   "source": [
    "splitter_cv = TokenTextSplitter(\n",
    "    model_name= \"gpt-3.5-turbo\",\n",
    "    chunk_size= 10000,\n",
    "    chunk_overlap = 200\n",
    ")"
   ]
  },
  {
   "cell_type": "code",
   "execution_count": 19,
   "id": "af308c32",
   "metadata": {},
   "outputs": [],
   "source": [
    "chunks_cv  = splitter_cv.split_text(curriculum_vitae)"
   ]
  },
  {
   "cell_type": "code",
   "execution_count": 20,
   "id": "3c3b88ec",
   "metadata": {},
   "outputs": [
    {
     "data": {
      "text/plain": [
       "[\"CHIEJINACHIKEPlot373,39Rd,3rdAvenue,Gwarinpa,Abuja,Nigeria,900108+2347031689715chiejinachike@gmail.com\\nCareerObjectives:\\nI ama highlyskilledandresults-drivenDataAnalystwithover5yearsofexperienceinanalyzinglargedatasetstouncover insightsanddrivebusinessdecisions.Proficientindatamanipulation,statisticalanalysis,andvisualizationtechniques. I have professional experience in crafting chatbots that seamlessly integrate with existing systems,enhancing user engagement and optimizingoperational efficiency. Witha keenunderstandingof user experienceprinciples, I strive to create conversational interfaces that not onlymeet technical specifications but alsoexceedend-userexpectations.Mycareer visionis tocontinue pushingthe boundaries of Dataanalytics.Iamcommittedtodrivinginnovationindata management, making data reportingmore efficient, versatile, andadaptable tovarious industries. I aspire tolead projects that contribute to business development andgrowththroughdata insights, witha focus onbigdatamanagementandanalytics.\\nCoreSkills:\\nData Warehousing, SQL, Python, Transformer Models, Machine LearningFrameworks, suchas TensorFlowandPyTorch, Natural Language Processing (NLP), Machine Learning Integration, Text Preprocessing, ResearchandDevelopment.\\nCERTIFICATIONS\\n● CertificateofAchievementinOracleDatabaseAdministration● CertificateinIBMSPSSStatistics● CertificateofAchievementinBusinessInformationTechnology● CertificateofAchievementinProjectManagement● CertificateofAchievementinStatisticsandDataScienceforBeginners● CertificateofAchievementinITFundamentalsforBusinessManagement● CertificateofAchievementinFundamentalsofDataEngineering● CertificateofAchievementinChatbotEngineering● CertificateofAchievementinPowerBIforDataAnalytics\\nWORKEXPERIENCE\\nDataAnalystatPage36,June2022–PresentTexas,UnitedStatesJobroles\\n● Usedautomatedtools,suchasPowerBItoextractdatafromprimaryandsecondarysources● Developedandmaintaineddatabases,anddatasystems–reorganizingdatainareadableformat● PerformedanalysisusingRandPythontoassessthequalityandmeaningofdata● FilteredDatabyreviewingreportsandperformanceindicatorstoidentifyandcorrectcodeproblems● Usedstatisticaltoolstoidentify,analyze,andinterpretpatternsandtrendsincomplexdatasets● AssignednumericalvaluetoessentialbusinessfunctionssothatPage36businessperformancecanbeassessedandcomparedoverperiodsoftime.● Analyzedlocal,national,andglobaltrendsthatimpactboththeorganizationandtheindustry● Preparedreportsforthemanagementstatingtrends,patterns,andpredictionsusingrelevantdata● Workedwithmanagementheadstoidentifyprocessimprovementopportunities,proposesystemmodifications,accordingtodatagovernancestrategies.● Preparedfinalanalysisreportsforthestakeholderstounderstandthedata-analysissteps,enablingthemtotakeimportantdecisionsbasedonvariousfactsandtrends\\nAssistantLectureratUniversityofNigeria,February2018–May2022Enugu,Nigeria\\nJobroles● Conductedresearchandpublishedinhighimpact-factorjournals.● Assistedandcollaboratedwithotherresearcherswheredatareportingwasneeded.● Assistedseniorfacultymembersinconductinglectures,seminarsandtutorials.● Facilitatedstudentlearningthroughthedeliveryofengagingandinteractivelessons.● Providedguidanceandsupporttostudents,addressingtheirquestionsandconcerns.● Assistedinthepreparationofcoursematerials,includingsyllabi,lessonplansandteachingaids.● Evaluatedandgradedstudentassignments,examsandprojectsinatimelymanner.● Arrangedofficehourstoprovideone-on-oneassistancetostudentsanddiscusstheiracademicprogress.● Assistedinresearchprojects,datacollectionandanalysis.● Collaboratedwithcolleaguesoncurriculumdevelopmentandimprovementinitiatives.● Participatedindepartmentalmeetingsandworkshopstostayupdatedonbestteachingpractices.\\nAssistantTechnicalOfficer-MERandDataAnalyst atFHI(360),August2016–December2017.Anambra,Nigeria.\\nJobroles\\n● Assistedinprovidingsupportonprogram/projectmonitoringandevaluationactivities.● Worked with Executive level Technical Officers to support the correct implementation and use ofmonitoringandevaluationtoolsandadherencetocomplete,correctandtimelyreporting.● AssistedwithdataentryandupdatingofDHISandLAMIS.● Assistedinconductingroutine monitoringvisits toproject sites, includingquarterlyDQAs andassistedinthepreparationofmonthlyreports.● Provided direct technical assistance and capacity building in the design and implementation of theprogram/project monitoring and enhanced evaluation components of the activities in the communitiesserved.● Coordinateddataanalysis,designandinformationflow.● ProducedmonthlyreportsusingadvancedExcelspreadsheetfunctions.● Researchedandresolvedissuesregardingintegrityofdataflowintodatabases.● Developedtables,viewsandmaterializedviewsusingSQL.● Transformedprojectdatarequirementsintoprojectdatamodels.● Compiled,evaluatedandreviewedengineereddataforinternalsystems.\\nProjectManageratUche-ShittuSolutions,June2015–May2016.PortHarcourt,Nigeria\\nJobroles● Identifiedplansandresourcesrequiredtomeetprojectgoalsandobjectives.● Managedprojectsfromprocurementtocommission.● Developedandinitiatedprojects,managedcostsandmonitoredperformance.● Orchestratedprojects withinstrict time frames andbudgetconstraintsbysolvingcomplexproblemsandworkingcloselywithseniorleaders.● Identified,reviewedandappliedpoliciesandprocedures.● Updatedoperational methods, oversawaccountingprocedures,trackedinformationandcompileddatatoimproveefficiency.● Obtainedneededresourcesbystrategicallynegotiatingwithstakeholdersandoutsidesuppliers.\\nDigitalMarketingAssociateatJUMIA,July2014–May2015.PortHarcourt,Nigeria\\nJobroles● Utilizedeffectivedigitalmarketingmethodstoincreasesalesby76%.● Boostedbrandawarenessbyestablishingstrongwebandsocialmediapresence.● Created and deployed social media content, engaged with target audiences and boosted reach withstrategicadplacements.● OptimizedsocialmediachannelsandwebpagestoimproveSEO.● Trackedandreportedonmarketingcampaignperformancemonthlyto helpwithoptimizingcurrentandfutureplans.● Conductedcontinuousevaluationsofmarkettrendstostaycurrentonconsumerandcompetitorchanges.● Improvedclick-throughrates,conversionandotherimportantKPIswithastrategicapproach.● Developedbackend-trackingURLstomeasurecampaignresultsanddetermineROI.\\nEducation\\nUniversityofNigeria, MastersDegreeUniversityofBenin, Bachelor'sDegree.August2013\\nResearchandPublicationsChiejian, C. O., Ikeh, M. I., Enebe, F. A., Aguzie, I. O., Ajima, M. N. O., Ali, D., Kumar, G. andNwani, C. D.(2023). ‘Effects of haloperidol on peripheral erythrocytes and brain neurotransmitter levels of juvenile AfricanSharptoothCatfish,clariasgariepinus’,JournalofAquaticAnimalHealth,00,1-1.\\nAnih, L. N., Atama, C. I., Chiejina, C. O., Ezeani, S. I., Ezinwa, H. C., Chuka, M. N. andNwani, C. D.(2023).‘Long Long termintegratedbiomarker responses infreshwater AfricanCatfish(clarias gariepinus) exposedtoanew brand of Herbicide, fluazifop-p-butyl’, Drug and Chemical Toxicology,DOI:10.1080/01480545.2023.2174987.\\nChiejian, C. O., Anih, L. N., Okoye, C. O., Aguzie, I. A., Ali, D., Kumar, G. and Nwani, C. D. (2022).‘Haloperidol altersthebehavioral,hematologicalandbiochemicalparametersoffreshwaterAfricancatfish,clariasgariepinus (Burchell 1822)’, Comparative Biochemistry and Physiology Part C: Toxicology and Pharmacology,254,109292.\\nOkoye, C. O., Okeke, E. S., Ezeorba, T. P. C., Chukwudozie, K. I., Chiejina, C. O., Fomena Temgoua, N. S.(2022). ‘Microbial andBio-basedPreservatives:RecentAdvancesinAntimicrobialCompounds’In:Nadda,A.K.,Goel, G. (eds) Microbes for Natural Food Additives. Microorganisms for Sustainability, 38. Springer,Singapore.http://doi.org/10.1007/978-981-19-5711-6_4\\nOkoye, C. O., Echude, D., Chiejina, C. O., Okoye, K. C., Chigozie, D. and Ezeonyejiaku, C. D.(2021).‘Macroinvertebrates as Bioindicators of Water QualityAssessment inaTropicalStream’,InternationalJournalofAquaticScience,12(2):3552-3561.\\nOkoye, C. O., Chiejina, C. O., Ezeorah, C. C., Okeke, J. J., Ezeonyejiaku, C. D. and Okonkwo, C. J. (2019).‘DiversityofEarthworminNnamdiAzikiweUniversity’,AnalsofScienceandTechnology4(2):39-4.\"]"
      ]
     },
     "execution_count": 20,
     "metadata": {},
     "output_type": "execute_result"
    }
   ],
   "source": [
    "chunks_cv"
   ]
  },
  {
   "cell_type": "code",
   "execution_count": 21,
   "id": "d80a6fe5",
   "metadata": {},
   "outputs": [
    {
     "data": {
      "text/plain": [
       "1"
      ]
     },
     "execution_count": 21,
     "metadata": {},
     "output_type": "execute_result"
    }
   ],
   "source": [
    "len(chunks_cv)"
   ]
  },
  {
   "cell_type": "code",
   "execution_count": 23,
   "id": "13020039",
   "metadata": {},
   "outputs": [],
   "source": [
    "from langchain.docstore.document import Document"
   ]
  },
  {
   "cell_type": "code",
   "execution_count": 22,
   "id": "242b4ed0",
   "metadata": {},
   "outputs": [],
   "source": [
    "from langchain.text_splitter import RecursiveCharacterTextSplitter"
   ]
  },
  {
   "cell_type": "code",
   "execution_count": 24,
   "id": "ff964c68",
   "metadata": {},
   "outputs": [],
   "source": [
    "document_chunks = [Document(page_content = t) for t in chunks_cv]"
   ]
  },
  {
   "cell_type": "code",
   "execution_count": 25,
   "id": "1a01f4c5",
   "metadata": {},
   "outputs": [
    {
     "data": {
      "text/plain": [
       "[Document(metadata={}, page_content=\"CHIEJINACHIKEPlot373,39Rd,3rdAvenue,Gwarinpa,Abuja,Nigeria,900108+2347031689715chiejinachike@gmail.com\\nCareerObjectives:\\nI ama highlyskilledandresults-drivenDataAnalystwithover5yearsofexperienceinanalyzinglargedatasetstouncover insightsanddrivebusinessdecisions.Proficientindatamanipulation,statisticalanalysis,andvisualizationtechniques. I have professional experience in crafting chatbots that seamlessly integrate with existing systems,enhancing user engagement and optimizingoperational efficiency. Witha keenunderstandingof user experienceprinciples, I strive to create conversational interfaces that not onlymeet technical specifications but alsoexceedend-userexpectations.Mycareer visionis tocontinue pushingthe boundaries of Dataanalytics.Iamcommittedtodrivinginnovationindata management, making data reportingmore efficient, versatile, andadaptable tovarious industries. I aspire tolead projects that contribute to business development andgrowththroughdata insights, witha focus onbigdatamanagementandanalytics.\\nCoreSkills:\\nData Warehousing, SQL, Python, Transformer Models, Machine LearningFrameworks, suchas TensorFlowandPyTorch, Natural Language Processing (NLP), Machine Learning Integration, Text Preprocessing, ResearchandDevelopment.\\nCERTIFICATIONS\\n● CertificateofAchievementinOracleDatabaseAdministration● CertificateinIBMSPSSStatistics● CertificateofAchievementinBusinessInformationTechnology● CertificateofAchievementinProjectManagement● CertificateofAchievementinStatisticsandDataScienceforBeginners● CertificateofAchievementinITFundamentalsforBusinessManagement● CertificateofAchievementinFundamentalsofDataEngineering● CertificateofAchievementinChatbotEngineering● CertificateofAchievementinPowerBIforDataAnalytics\\nWORKEXPERIENCE\\nDataAnalystatPage36,June2022–PresentTexas,UnitedStatesJobroles\\n● Usedautomatedtools,suchasPowerBItoextractdatafromprimaryandsecondarysources● Developedandmaintaineddatabases,anddatasystems–reorganizingdatainareadableformat● PerformedanalysisusingRandPythontoassessthequalityandmeaningofdata● FilteredDatabyreviewingreportsandperformanceindicatorstoidentifyandcorrectcodeproblems● Usedstatisticaltoolstoidentify,analyze,andinterpretpatternsandtrendsincomplexdatasets● AssignednumericalvaluetoessentialbusinessfunctionssothatPage36businessperformancecanbeassessedandcomparedoverperiodsoftime.● Analyzedlocal,national,andglobaltrendsthatimpactboththeorganizationandtheindustry● Preparedreportsforthemanagementstatingtrends,patterns,andpredictionsusingrelevantdata● Workedwithmanagementheadstoidentifyprocessimprovementopportunities,proposesystemmodifications,accordingtodatagovernancestrategies.● Preparedfinalanalysisreportsforthestakeholderstounderstandthedata-analysissteps,enablingthemtotakeimportantdecisionsbasedonvariousfactsandtrends\\nAssistantLectureratUniversityofNigeria,February2018–May2022Enugu,Nigeria\\nJobroles● Conductedresearchandpublishedinhighimpact-factorjournals.● Assistedandcollaboratedwithotherresearcherswheredatareportingwasneeded.● Assistedseniorfacultymembersinconductinglectures,seminarsandtutorials.● Facilitatedstudentlearningthroughthedeliveryofengagingandinteractivelessons.● Providedguidanceandsupporttostudents,addressingtheirquestionsandconcerns.● Assistedinthepreparationofcoursematerials,includingsyllabi,lessonplansandteachingaids.● Evaluatedandgradedstudentassignments,examsandprojectsinatimelymanner.● Arrangedofficehourstoprovideone-on-oneassistancetostudentsanddiscusstheiracademicprogress.● Assistedinresearchprojects,datacollectionandanalysis.● Collaboratedwithcolleaguesoncurriculumdevelopmentandimprovementinitiatives.● Participatedindepartmentalmeetingsandworkshopstostayupdatedonbestteachingpractices.\\nAssistantTechnicalOfficer-MERandDataAnalyst atFHI(360),August2016–December2017.Anambra,Nigeria.\\nJobroles\\n● Assistedinprovidingsupportonprogram/projectmonitoringandevaluationactivities.● Worked with Executive level Technical Officers to support the correct implementation and use ofmonitoringandevaluationtoolsandadherencetocomplete,correctandtimelyreporting.● AssistedwithdataentryandupdatingofDHISandLAMIS.● Assistedinconductingroutine monitoringvisits toproject sites, includingquarterlyDQAs andassistedinthepreparationofmonthlyreports.● Provided direct technical assistance and capacity building in the design and implementation of theprogram/project monitoring and enhanced evaluation components of the activities in the communitiesserved.● Coordinateddataanalysis,designandinformationflow.● ProducedmonthlyreportsusingadvancedExcelspreadsheetfunctions.● Researchedandresolvedissuesregardingintegrityofdataflowintodatabases.● Developedtables,viewsandmaterializedviewsusingSQL.● Transformedprojectdatarequirementsintoprojectdatamodels.● Compiled,evaluatedandreviewedengineereddataforinternalsystems.\\nProjectManageratUche-ShittuSolutions,June2015–May2016.PortHarcourt,Nigeria\\nJobroles● Identifiedplansandresourcesrequiredtomeetprojectgoalsandobjectives.● Managedprojectsfromprocurementtocommission.● Developedandinitiatedprojects,managedcostsandmonitoredperformance.● Orchestratedprojects withinstrict time frames andbudgetconstraintsbysolvingcomplexproblemsandworkingcloselywithseniorleaders.● Identified,reviewedandappliedpoliciesandprocedures.● Updatedoperational methods, oversawaccountingprocedures,trackedinformationandcompileddatatoimproveefficiency.● Obtainedneededresourcesbystrategicallynegotiatingwithstakeholdersandoutsidesuppliers.\\nDigitalMarketingAssociateatJUMIA,July2014–May2015.PortHarcourt,Nigeria\\nJobroles● Utilizedeffectivedigitalmarketingmethodstoincreasesalesby76%.● Boostedbrandawarenessbyestablishingstrongwebandsocialmediapresence.● Created and deployed social media content, engaged with target audiences and boosted reach withstrategicadplacements.● OptimizedsocialmediachannelsandwebpagestoimproveSEO.● Trackedandreportedonmarketingcampaignperformancemonthlyto helpwithoptimizingcurrentandfutureplans.● Conductedcontinuousevaluationsofmarkettrendstostaycurrentonconsumerandcompetitorchanges.● Improvedclick-throughrates,conversionandotherimportantKPIswithastrategicapproach.● Developedbackend-trackingURLstomeasurecampaignresultsanddetermineROI.\\nEducation\\nUniversityofNigeria, MastersDegreeUniversityofBenin, Bachelor'sDegree.August2013\\nResearchandPublicationsChiejian, C. O., Ikeh, M. I., Enebe, F. A., Aguzie, I. O., Ajima, M. N. O., Ali, D., Kumar, G. andNwani, C. D.(2023). ‘Effects of haloperidol on peripheral erythrocytes and brain neurotransmitter levels of juvenile AfricanSharptoothCatfish,clariasgariepinus’,JournalofAquaticAnimalHealth,00,1-1.\\nAnih, L. N., Atama, C. I., Chiejina, C. O., Ezeani, S. I., Ezinwa, H. C., Chuka, M. N. andNwani, C. D.(2023).‘Long Long termintegratedbiomarker responses infreshwater AfricanCatfish(clarias gariepinus) exposedtoanew brand of Herbicide, fluazifop-p-butyl’, Drug and Chemical Toxicology,DOI:10.1080/01480545.2023.2174987.\\nChiejian, C. O., Anih, L. N., Okoye, C. O., Aguzie, I. A., Ali, D., Kumar, G. and Nwani, C. D. (2022).‘Haloperidol altersthebehavioral,hematologicalandbiochemicalparametersoffreshwaterAfricancatfish,clariasgariepinus (Burchell 1822)’, Comparative Biochemistry and Physiology Part C: Toxicology and Pharmacology,254,109292.\\nOkoye, C. O., Okeke, E. S., Ezeorba, T. P. C., Chukwudozie, K. I., Chiejina, C. O., Fomena Temgoua, N. S.(2022). ‘Microbial andBio-basedPreservatives:RecentAdvancesinAntimicrobialCompounds’In:Nadda,A.K.,Goel, G. (eds) Microbes for Natural Food Additives. Microorganisms for Sustainability, 38. Springer,Singapore.http://doi.org/10.1007/978-981-19-5711-6_4\\nOkoye, C. O., Echude, D., Chiejina, C. O., Okoye, K. C., Chigozie, D. and Ezeonyejiaku, C. D.(2021).‘Macroinvertebrates as Bioindicators of Water QualityAssessment inaTropicalStream’,InternationalJournalofAquaticScience,12(2):3552-3561.\\nOkoye, C. O., Chiejina, C. O., Ezeorah, C. C., Okeke, J. J., Ezeonyejiaku, C. D. and Okonkwo, C. J. (2019).‘DiversityofEarthworminNnamdiAzikiweUniversity’,AnalsofScienceandTechnology4(2):39-4.\")]"
      ]
     },
     "execution_count": 25,
     "metadata": {},
     "output_type": "execute_result"
    }
   ],
   "source": [
    "document_chunks"
   ]
  },
  {
   "cell_type": "code",
   "execution_count": 28,
   "id": "4c40ef74",
   "metadata": {},
   "outputs": [
    {
     "data": {
      "text/plain": [
       "langchain_core.documents.base.Document"
      ]
     },
     "execution_count": 28,
     "metadata": {},
     "output_type": "execute_result"
    }
   ],
   "source": [
    "type(document_chunks[0])"
   ]
  },
  {
   "cell_type": "code",
   "execution_count": 29,
   "id": "01249fe9",
   "metadata": {},
   "outputs": [],
   "source": [
    "splitter_job_role = TokenTextSplitter(\n",
    "    model_name = 'gpt-3.5-turbo',\n",
    "    chunk_size = 1000,\n",
    "    chunk_overlap = 100\n",
    ")"
   ]
  },
  {
   "cell_type": "code",
   "execution_count": 30,
   "id": "0108a8cf",
   "metadata": {},
   "outputs": [],
   "source": [
    "job_analysis_gen = splitter_job_role.split_documents(\n",
    "    document_chunks\n",
    ")"
   ]
  },
  {
   "cell_type": "code",
   "execution_count": 31,
   "id": "658212fe",
   "metadata": {},
   "outputs": [
    {
     "data": {
      "text/plain": [
       "[Document(metadata={}, page_content='CHIEJINACHIKEPlot373,39Rd,3rdAvenue,Gwarinpa,Abuja,Nigeria,900108+2347031689715chiejinachike@gmail.com\\nCareerObjectives:\\nI ama highlyskilledandresults-drivenDataAnalystwithover5yearsofexperienceinanalyzinglargedatasetstouncover insightsanddrivebusinessdecisions.Proficientindatamanipulation,statisticalanalysis,andvisualizationtechniques. I have professional experience in crafting chatbots that seamlessly integrate with existing systems,enhancing user engagement and optimizingoperational efficiency. Witha keenunderstandingof user experienceprinciples, I strive to create conversational interfaces that not onlymeet technical specifications but alsoexceedend-userexpectations.Mycareer visionis tocontinue pushingthe boundaries of Dataanalytics.Iamcommittedtodrivinginnovationindata management, making data reportingmore efficient, versatile, andadaptable tovarious industries. I aspire tolead projects that contribute to business development andgrowththroughdata insights, witha focus onbigdatamanagementandanalytics.\\nCoreSkills:\\nData Warehousing, SQL, Python, Transformer Models, Machine LearningFrameworks, suchas TensorFlowandPyTorch, Natural Language Processing (NLP), Machine Learning Integration, Text Preprocessing, ResearchandDevelopment.\\nCERTIFICATIONS\\n● CertificateofAchievementinOracleDatabaseAdministration● CertificateinIBMSPSSStatistics● CertificateofAchievementinBusinessInformationTechnology● CertificateofAchievementinProjectManagement● CertificateofAchievementinStatisticsandDataScienceforBeginners● CertificateofAchievementinITFundamentalsforBusinessManagement● CertificateofAchievementinFundamentalsofDataEngineering● CertificateofAchievementinChatbotEngineering● CertificateofAchievementinPowerBIforDataAnalytics\\nWORKEXPERIENCE\\nDataAnalystatPage36,June2022–PresentTexas,UnitedStatesJobroles\\n● Usedautomatedtools,suchasPowerBItoextractdatafromprimaryandsecondarysources● Developedandmaintaineddatabases,anddatasystems–reorganizingdatainareadableformat● PerformedanalysisusingRandPythontoassessthequalityandmeaningofdata● FilteredDatabyreviewingreportsandperformanceindicatorstoidentifyandcorrectcodeproblems● Usedstatisticaltoolstoidentify,analyze,andinterpretpatternsandtrendsincomplexdatasets● AssignednumericalvaluetoessentialbusinessfunctionssothatPage36businessperformancecanbeassessedandcomparedoverperiodsoftime.● Analyzedlocal,national,andglobaltrendsthatimpactboththeorganizationandtheindustry● Preparedreportsforthemanagementstatingtrends,patterns,andpredictionsusingrelevantdata● Workedwithmanagementheadstoidentifyprocessimprovementopportunities,proposesystemmodifications,accordingtodatagovernancestrategies.● Preparedfinalanalysisreportsforthestakeholderstounderstandthedata-analysissteps,enablingthemtotakeimportantdecisionsbasedonvariousfactsandtrends\\nAssistantLectureratUniversityofNigeria,February2018–May2022Enugu,Nigeria\\nJobroles● Conductedresearchandpublishedinhighimpact-factorjournals.● Assistedandcollaboratedwithotherresearcherswheredatareportingwasneeded.● Assistedseniorfacultymembersinconductinglectures,seminarsandtutorials.● Facilitatedstudentlearningthroughthedeliveryofengagingandinteractivelessons.● Providedguidanceandsupporttostudents,addressingtheirquestionsandconcerns.● Assistedinthepreparationofcoursematerials,includingsyllabi,lessonplansandteachingaids.● Evaluatedandgradedstudentassignments,examsandprojectsinatimelymanner.● Arrangedofficehourstoprovideone-on-oneassistancetostudentsanddiscusstheiracademicprogress.● Assistedinresearchprojects,datacollectionandanalysis.● Collaboratedwithcolleaguesoncurriculumdevelopmentandimprovementinitiatives.● Participatedindepartmentalmeetingsandworkshopstostayupdatedonbestteachingpractices.\\nAssistantTechnicalOfficer-MERandDataAnalyst atFHI(360),August2016–December2017.Anambra,Nigeria.\\nJobroles\\n● Assistedinprovidingsupportonprogram/projectmonitoringandevaluationactivities.● Worked with Executive level Technical Officers to support the correct implementation and use ofmonitoringandevaluationtoolsandadherencetocomplete,correctandtimelyreporting.● AssistedwithdataentryandupdatingofDHISandLAMIS.● Assistedinconductingroutine monitoringvisits toproject sites, includingquarterlyDQAs andassistedinthepreparationofmonthlyreports.● Provided direct technical assistance and capacity building in the design and implementation of theprogram/project monitoring and enhanced evaluation components of'),\n",
       " Document(metadata={}, page_content=\" level Technical Officers to support the correct implementation and use ofmonitoringandevaluationtoolsandadherencetocomplete,correctandtimelyreporting.● AssistedwithdataentryandupdatingofDHISandLAMIS.● Assistedinconductingroutine monitoringvisits toproject sites, includingquarterlyDQAs andassistedinthepreparationofmonthlyreports.● Provided direct technical assistance and capacity building in the design and implementation of theprogram/project monitoring and enhanced evaluation components of the activities in the communitiesserved.● Coordinateddataanalysis,designandinformationflow.● ProducedmonthlyreportsusingadvancedExcelspreadsheetfunctions.● Researchedandresolvedissuesregardingintegrityofdataflowintodatabases.● Developedtables,viewsandmaterializedviewsusingSQL.● Transformedprojectdatarequirementsintoprojectdatamodels.● Compiled,evaluatedandreviewedengineereddataforinternalsystems.\\nProjectManageratUche-ShittuSolutions,June2015–May2016.PortHarcourt,Nigeria\\nJobroles● Identifiedplansandresourcesrequiredtomeetprojectgoalsandobjectives.● Managedprojectsfromprocurementtocommission.● Developedandinitiatedprojects,managedcostsandmonitoredperformance.● Orchestratedprojects withinstrict time frames andbudgetconstraintsbysolvingcomplexproblemsandworkingcloselywithseniorleaders.● Identified,reviewedandappliedpoliciesandprocedures.● Updatedoperational methods, oversawaccountingprocedures,trackedinformationandcompileddatatoimproveefficiency.● Obtainedneededresourcesbystrategicallynegotiatingwithstakeholdersandoutsidesuppliers.\\nDigitalMarketingAssociateatJUMIA,July2014–May2015.PortHarcourt,Nigeria\\nJobroles● Utilizedeffectivedigitalmarketingmethodstoincreasesalesby76%.● Boostedbrandawarenessbyestablishingstrongwebandsocialmediapresence.● Created and deployed social media content, engaged with target audiences and boosted reach withstrategicadplacements.● OptimizedsocialmediachannelsandwebpagestoimproveSEO.● Trackedandreportedonmarketingcampaignperformancemonthlyto helpwithoptimizingcurrentandfutureplans.● Conductedcontinuousevaluationsofmarkettrendstostaycurrentonconsumerandcompetitorchanges.● Improvedclick-throughrates,conversionandotherimportantKPIswithastrategicapproach.● Developedbackend-trackingURLstomeasurecampaignresultsanddetermineROI.\\nEducation\\nUniversityofNigeria, MastersDegreeUniversityofBenin, Bachelor'sDegree.August2013\\nResearchandPublicationsChiejian, C. O., Ikeh, M. I., Enebe, F. A., Aguzie, I. O., Ajima, M. N. O., Ali, D., Kumar, G. andNwani, C. D.(2023). ‘Effects of haloperidol on peripheral erythrocytes and brain neurotransmitter levels of juvenile AfricanSharptoothCatfish,clariasgariepinus’,JournalofAquaticAnimalHealth,00,1-1.\\nAnih, L. N., Atama, C. I., Chiejina, C. O., Ezeani, S. I., Ezinwa, H. C., Chuka, M. N. andNwani, C. D.(2023).‘Long Long termintegratedbiomarker responses infreshwater AfricanCatfish(clarias gariepinus) exposedtoanew brand of Herbicide, fluazifop-p-butyl’, Drug and Chemical Toxicology,DOI:10.1080/01480545.2023.2174987.\\nChiejian, C. O., Anih, L. N., Okoye, C. O., Aguzie, I. A., Ali, D., Kumar, G. and Nwani, C. D. (2022).‘Haloperidol altersthebehavioral,hematologicalandbiochemicalparametersoffreshwaterAfricancatfish,clariasgariepinus (Burchell 1822)’, Comparative Biochemistry and Physiology Part C: Toxicology and Pharmacology,254,109292.\\nOkoye, C. O., Okeke, E. S., Ezeorba, T. P. C., Chukwudozie, K. I., Chiejina, C. O., Fomena Temgoua, N. S.(2022). ‘Microbial andBio-basedPreservatives:RecentAdvancesinAntimicrobialCompounds’In:Nadda,A.K.,Goel, G. (eds) Microbes for Natural Food Additives. Microorganisms for Sustainability, 38. Springer,Sing\"),\n",
       " Document(metadata={}, page_content='. S., Ezeorba, T. P. C., Chukwudozie, K. I., Chiejina, C. O., Fomena Temgoua, N. S.(2022). ‘Microbial andBio-basedPreservatives:RecentAdvancesinAntimicrobialCompounds’In:Nadda,A.K.,Goel, G. (eds) Microbes for Natural Food Additives. Microorganisms for Sustainability, 38. Springer,Singapore.http://doi.org/10.1007/978-981-19-5711-6_4\\nOkoye, C. O., Echude, D., Chiejina, C. O., Okoye, K. C., Chigozie, D. and Ezeonyejiaku, C. D.(2021).‘Macroinvertebrates as Bioindicators of Water QualityAssessment inaTropicalStream’,InternationalJournalofAquaticScience,12(2):3552-3561.\\nOkoye, C. O., Chiejina, C. O., Ezeorah, C. C., Okeke, J. J., Ezeonyejiaku, C. D. and Okonkwo, C. J. (2019).‘DiversityofEarthworminNnamdiAzikiweUniversity’,AnalsofScienceandTechnology4(2):39-4.')]"
      ]
     },
     "execution_count": 31,
     "metadata": {},
     "output_type": "execute_result"
    }
   ],
   "source": [
    "job_analysis_gen"
   ]
  },
  {
   "cell_type": "code",
   "execution_count": 32,
   "id": "9865b622",
   "metadata": {},
   "outputs": [],
   "source": [
    "from langchain.chat_models import ChatOpenAI"
   ]
  },
  {
   "cell_type": "code",
   "execution_count": 80,
   "id": "829f4046",
   "metadata": {},
   "outputs": [],
   "source": [
    "llm = ChatOpenAI(\n",
    "    model = 'gpt-3.5-turbo',\n",
    "    temperature = 0.3\n",
    ")"
   ]
  },
  {
   "cell_type": "code",
   "execution_count": 34,
   "id": "55bd1607",
   "metadata": {},
   "outputs": [],
   "source": [
    "\n",
    "prompt_template = \"\"\"\n",
    "You are an expert career assistant\n",
    "\n",
    "------------\n",
    "Curriculum vitae:\n",
    "{resume_text}\n",
    "------------\n",
    "\n",
    "Read the content of Curriculum vitae and be sure to understand the content, \n",
    "while applying you roles. Respond 'YES' when you have read and understood the Curriculum vitae\n",
    "\n",
    "\"\"\""
   ]
  },
  {
   "cell_type": "code",
   "execution_count": 35,
   "id": "312f3eaf",
   "metadata": {},
   "outputs": [],
   "source": [
    "from langchain.prompts import PromptTemplate\n"
   ]
  },
  {
   "cell_type": "code",
   "execution_count": 37,
   "id": "60f21541",
   "metadata": {},
   "outputs": [],
   "source": [
    "PROMPT_READ_RESUME = PromptTemplate(\n",
    "    template=prompt_template,\n",
    "    input_variables=[\"resume_text\"]\n",
    ")\n"
   ]
  },
  {
   "cell_type": "code",
   "execution_count": 81,
   "id": "59c4dc32",
   "metadata": {},
   "outputs": [],
   "source": [
    "read_resume_chain = LLMChain(\n",
    "    llm=llm,\n",
    "    prompt=PROMPT_READ_RESUME,\n",
    "    output_key=\"resume_summary\"\n",
    ")"
   ]
  },
  {
   "cell_type": "code",
   "execution_count": 38,
   "id": "7ada9d61",
   "metadata": {},
   "outputs": [],
   "source": [
    "Comp_template = (\"\"\"\n",
    "You have analyzed and understood the content of curriculum vitae. As an expert career assistant\n",
    "Your roles are to compare Curriculum vitae with Job description and return the following:\n",
    "        1. A **Fit Score** (0-100%) of how well this resume matches the job.\n",
    "        2. Key strengths (resume areas that align well).\n",
    "        3. Specific recommendations to improve the resume to better fit the job.\n",
    "        Format neatly in Markdown. \n",
    "------------\n",
    "Job description:\n",
    "{job_text}\n",
    "------------\n",
    "\"\"\"\n",
    ")"
   ]
  },
  {
   "cell_type": "code",
   "execution_count": null,
   "id": "1927fa26",
   "metadata": {},
   "outputs": [],
   "source": [
    "COMPARE_PROMPT_RESUME = PromptTemplate(\n",
    "    input_variables=[\"resume_text\", \"job_text\"],\n",
    "    template=Comp_template,\n",
    ")"
   ]
  },
  {
   "cell_type": "code",
   "execution_count": 82,
   "id": "c3f1da82",
   "metadata": {},
   "outputs": [],
   "source": [
    "compare_resume_chain = LLMChain(\n",
    "    llm=llm,\n",
    "    prompt=COMPARE_PROMPT_RESUME,\n",
    "    output_key=\"comparison_result\")"
   ]
  },
  {
   "cell_type": "code",
   "execution_count": 43,
   "id": "a69e08bd",
   "metadata": {},
   "outputs": [],
   "source": [
    "from langchain.chains import LLMChain"
   ]
  },
  {
   "cell_type": "code",
   "execution_count": 47,
   "id": "10056684",
   "metadata": {},
   "outputs": [],
   "source": [
    "job_text = \"\"\"\n",
    "We are hiring a research associate with strong background in pharmacology and data interpretation.\n",
    "Knowledge of clinical trial analysis and regulatory documentation is a plus.\n",
    "\"\"\""
   ]
  },
  {
   "cell_type": "code",
   "execution_count": 76,
   "id": "d076a2b9",
   "metadata": {},
   "outputs": [],
   "source": [
    "from langchain.chains import SequentialChain"
   ]
  },
  {
   "cell_type": "code",
   "execution_count": 83,
   "id": "79ecec1c",
   "metadata": {},
   "outputs": [],
   "source": [
    "chain_prompt_resume = SequentialChain(\n",
    "    chains=[read_resume_chain, compare_resume_chain],\n",
    "    input_variables=[\"resume_text\", \"job_text\"],  # ✅ Flattened list\n",
    "    output_variables=[\"resume_summary\", \"comparison_result\"],  # Adjust as needed\n",
    "    verbose=True\n",
    ")"
   ]
  },
  {
   "cell_type": "code",
   "execution_count": null,
   "id": "ce4e8697",
   "metadata": {},
   "outputs": [],
   "source": [
    "chain_prompt_resume = LLMChain(\n",
    "    llm= llm ,\n",
    "    prompt= chain_prompt_resume\n",
    "    )"
   ]
  },
  {
   "cell_type": "code",
   "execution_count": 99,
   "id": "4c33acd9",
   "metadata": {},
   "outputs": [],
   "source": [
    "\n",
    "def analyze_resume_vs_job(document_chunks, job_text, chain_prompt_resume):\n",
    "\n",
    "    results = []\n",
    "\n",
    "    for i, chunk in enumerate(document_chunks):\n",
    "        response = chain_prompt_resume.run({\n",
    "            \"resume_text\": chunk.page_content,\n",
    "            \"job_text\": job_text\n",
    "        })\n",
    "        results.append((f\"Chunk {i+1}\", response))\n",
    "    return results    \n"
   ]
  },
  {
   "cell_type": "code",
   "execution_count": 86,
   "id": "62397429",
   "metadata": {},
   "outputs": [
    {
     "name": "stdout",
     "output_type": "stream",
     "text": [
      "[('Chunk 1', \"# Curriculum Vitae Fit Analysis\\n\\n## Fit Score: 70%\\n\\n### Key Strengths:\\n- Strong background in pharmacology\\n- Experience in data interpretation\\n- Familiarity with clinical trial analysis\\n\\n### Recommendations:\\n1. Highlight specific projects or experiences related to pharmacology and data interpretation.\\n2. Include any experience with regulatory documentation or clinical trial analysis.\\n3. Consider adding relevant skills or certifications related to pharmacology and data analysis to strengthen the resume's alignment with the job description.\")]\n"
     ]
    }
   ],
   "source": [
    "print(results)"
   ]
  },
  {
   "cell_type": "code",
   "execution_count": 87,
   "id": "82593eb4",
   "metadata": {},
   "outputs": [
    {
     "name": "stdout",
     "output_type": "stream",
     "text": [
      "--- Chunk 1 ---\n",
      "# Curriculum Vitae Fit Analysis\n",
      "\n",
      "## Fit Score: 70%\n",
      "\n",
      "### Key Strengths:\n",
      "- Strong background in pharmacology\n",
      "- Experience in data interpretation\n",
      "- Familiarity with clinical trial analysis\n",
      "\n",
      "### Recommendations:\n",
      "1. Highlight specific projects or experiences related to pharmacology and data interpretation.\n",
      "2. Include any experience with regulatory documentation or clinical trial analysis.\n",
      "3. Consider adding relevant skills or certifications related to pharmacology and data analysis to strengthen the resume's alignment with the job description.\n",
      "\n",
      "\n"
     ]
    }
   ],
   "source": [
    "for chunk_label, response_text in results:\n",
    "    print(f\"--- {chunk_label} ---\")\n",
    "    print(response_text)\n",
    "    print(\"\\n\")\n"
   ]
  },
  {
   "cell_type": "code",
   "execution_count": 59,
   "id": "eb934b3a",
   "metadata": {},
   "outputs": [],
   "source": [
    "from langchain.embeddings.openai import OpenAIEmbeddings"
   ]
  },
  {
   "cell_type": "code",
   "execution_count": 88,
   "id": "8f289b9f",
   "metadata": {},
   "outputs": [],
   "source": [
    "embeddings = OpenAIEmbeddings()\n"
   ]
  },
  {
   "cell_type": "code",
   "execution_count": 89,
   "id": "cfebfed3",
   "metadata": {},
   "outputs": [],
   "source": [
    "from langchain.vectorstores import Chroma\n"
   ]
  },
  {
   "cell_type": "code",
   "execution_count": 90,
   "id": "7b4a4c7d",
   "metadata": {},
   "outputs": [],
   "source": [
    "persist_directory = 'db'\n",
    "\n",
    "vectordb = Chroma.from_documents(documents=job_analysis_gen,\n",
    "                                 embedding=embeddings,\n",
    "                                 persist_directory=persist_directory)"
   ]
  },
  {
   "cell_type": "code",
   "execution_count": 91,
   "id": "c79fba2e",
   "metadata": {},
   "outputs": [],
   "source": [
    "vectordb.persist()\n",
    "vectordb = None"
   ]
  },
  {
   "cell_type": "code",
   "execution_count": 92,
   "id": "d6e004a8",
   "metadata": {},
   "outputs": [],
   "source": [
    "llm = ChatOpenAI(\n",
    "    model = 'gpt-3.5-turbo',\n",
    "    temperature = 0.3\n",
    ")"
   ]
  },
  {
   "cell_type": "code",
   "execution_count": 93,
   "id": "b714697a",
   "metadata": {},
   "outputs": [],
   "source": [
    "vectordb = Chroma(persist_directory=persist_directory,\n",
    "                  embedding_function=embeddings)"
   ]
  },
  {
   "cell_type": "code",
   "execution_count": 94,
   "id": "172a4a02",
   "metadata": {},
   "outputs": [],
   "source": [
    "retriever = vectordb.as_retriever()"
   ]
  },
  {
   "cell_type": "code",
   "execution_count": 95,
   "id": "47e0ee16",
   "metadata": {},
   "outputs": [],
   "source": [
    "from langchain.chains import ConversationalRetrievalChain\n",
    "from langchain.memory import ConversationBufferMemory"
   ]
  },
  {
   "cell_type": "code",
   "execution_count": 96,
   "id": "020e18e4",
   "metadata": {},
   "outputs": [],
   "source": [
    "memory = ConversationBufferMemory(memory_key=\"chat_history\", return_messages=True)"
   ]
  },
  {
   "cell_type": "code",
   "execution_count": 97,
   "id": "c196365d",
   "metadata": {},
   "outputs": [],
   "source": [
    "resume_chain = ConversationalRetrievalChain.from_llm(\n",
    "    llm=llm,\n",
    "    retriever=retriever,\n",
    "    memory=memory\n",
    ")"
   ]
  },
  {
   "cell_type": "code",
   "execution_count": 98,
   "id": "002eae24",
   "metadata": {},
   "outputs": [
    {
     "name": "stdout",
     "output_type": "stream",
     "text": [
      "--- Chunk 1 ---\n",
      "# Curriculum Vitae Fit Analysis\n",
      "\n",
      "## Fit Score: 70%\n",
      "\n",
      "### Key Strengths:\n",
      "- Strong background in pharmacology\n",
      "- Experience in data interpretation\n",
      "- Familiarity with clinical trial analysis\n",
      "\n",
      "### Recommendations:\n",
      "1. Highlight specific projects or experiences related to pharmacology and data interpretation.\n",
      "2. Include any experience with regulatory documentation or clinical trial analysis.\n",
      "3. Consider adding relevant skills or certifications related to pharmacology and data analysis to strengthen the resume's alignment with the job description.\n",
      "\n",
      "\n"
     ]
    }
   ],
   "source": [
    "for chunk_label, response_text in results:\n",
    "    print(f\"--- {chunk_label} ---\")\n",
    "    print(response_text)\n",
    "    print(\"\\n\")\n"
   ]
  },
  {
   "cell_type": "code",
   "execution_count": null,
   "id": "cb28da17",
   "metadata": {},
   "outputs": [],
   "source": []
  }
 ],
 "metadata": {
  "kernelspec": {
   "display_name": "resume",
   "language": "python",
   "name": "python3"
  },
  "language_info": {
   "codemirror_mode": {
    "name": "ipython",
    "version": 3
   },
   "file_extension": ".py",
   "mimetype": "text/x-python",
   "name": "python",
   "nbconvert_exporter": "python",
   "pygments_lexer": "ipython3",
   "version": "3.11.11"
  }
 },
 "nbformat": 4,
 "nbformat_minor": 5
}
